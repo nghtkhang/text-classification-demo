{
 "cells": [
  {
   "cell_type": "markdown",
   "metadata": {},
   "source": [
    "# Chuẩn bị dữ liệu "
   ]
  },
  {
   "cell_type": "code",
   "execution_count": 1,
   "metadata": {},
   "outputs": [],
   "source": [
    "import codecs\n",
    "def _generate_examples(filepath):\n",
    "    examples = []\n",
    "    with codecs.open(filepath, \"rb\") as f:\n",
    "        for id_, row in enumerate(f):\n",
    "            # One non-ASCII byte: sisterBADBYTEcity. We replace it with a space\n",
    "            label, _, text = row.replace(b\"\\xf0\",\n",
    "                                         b\" \").strip().decode().partition(\" \")\n",
    "            coarse_label, _, fine_label = label.partition(\":\")\n",
    "            examples.append((id_, {\n",
    "                \"label-coarse\": coarse_label,\n",
    "                \"label-fine\": fine_label,\n",
    "                \"text\": text,\n",
    "            }))\n",
    "    return examples "
   ]
  },
  {
   "cell_type": "code",
   "execution_count": 2,
   "metadata": {},
   "outputs": [],
   "source": [
    "train = _generate_examples(\"train_5500.label\")\n",
    "test = _generate_examples(\"TREC_10.label\")"
   ]
  },
  {
   "cell_type": "code",
   "execution_count": 3,
   "metadata": {},
   "outputs": [
    {
     "name": "stdout",
     "output_type": "stream",
     "text": [
      "------\n",
      "5452\n",
      "------\n",
      "['ENTY', 'LOC', 'HUM', 'NUM', 'DESC', 'ABBR']\n",
      "------\n",
      "{'ENTY': 0, 'LOC': 1, 'HUM': 2, 'NUM': 3, 'DESC': 4, 'ABBR': 5}\n",
      "------\n",
      "{0: 'ENTY', 1: 'LOC', 2: 'HUM', 3: 'NUM', 4: 'DESC', 5: 'ABBR'}\n"
     ]
    }
   ],
   "source": [
    "# lấy danh sách các nhãn trong dữ liệu huấn luyện\n",
    "labels = [x['label-coarse'] for _, x in train]\n",
    "set_labels = list(set(labels))\n",
    "label2id = {x: i for i, x in enumerate(set_labels)}\n",
    "id2label = {i: x for i, x in enumerate(set_labels)}\n",
    "\n",
    "print(\"------\")\n",
    "print(len(labels))\n",
    "print(\"------\")\n",
    "print(set_labels)\n",
    "print(\"------\")\n",
    "print(label2id)\n",
    "print(\"------\")\n",
    "print(id2label)"
   ]
  },
  {
   "cell_type": "code",
   "execution_count": 4,
   "metadata": {},
   "outputs": [
    {
     "name": "stdout",
     "output_type": "stream",
     "text": [
      "#training size 5452\n",
      "#testing size 500\n",
      "(0, {'label-coarse': 'DESC', 'label-fine': 'manner', 'text': 'How did serfdom develop in and then leave Russia ?'})\n",
      "(1, {'label-coarse': 'ENTY', 'label-fine': 'cremat', 'text': 'What films featured the character Popeye Doyle ?'})\n",
      "(0, {'label-coarse': 'NUM', 'label-fine': 'dist', 'text': 'How far is it from Denver to Aspen ?'})\n",
      "(1, {'label-coarse': 'LOC', 'label-fine': 'city', 'text': 'What county is Modesto , California in ?'})\n",
      "How did serfdom develop in and then leave Russia ? 4\n",
      "What films featured the character Popeye Doyle ? 0\n"
     ]
    }
   ],
   "source": [
    "train_target = [label2id[x['label-coarse']] for _, x in train]\n",
    "train_data = [x['text'] for _, x in train]\n",
    "\n",
    "test_data = [x['text'] for _, x in test]\n",
    "test_target = [label2id[x['label-coarse']] for _, x in test]\n",
    "\n",
    "\n",
    "print(\"#training size\", len(train))\n",
    "print(\"#testing size\", len(test))\n",
    "print(train[0])\n",
    "print(train[1])\n",
    "print(test[0])\n",
    "print(test[1])\n",
    "print(train_data[0], train_target[0])\n",
    "print(train_data[1], train_target[1])"
   ]
  },
  {
   "cell_type": "markdown",
   "metadata": {},
   "source": [
    "# Pipeline "
   ]
  },
  {
   "cell_type": "code",
   "execution_count": 5,
   "metadata": {},
   "outputs": [],
   "source": [
    "from sklearn import svm\n",
    "from sklearn.pipeline import Pipeline\n",
    "from sklearn.feature_extraction.text import CountVectorizer, TfidfTransformer\n",
    "ngram_range = (1,2)\n",
    "text_clf = Pipeline([\n",
    "    ('vect', CountVectorizer(ngram_range=ngram_range)),\n",
    "    ('tfidf', TfidfTransformer(use_idf=True)),\n",
    "    ('clf', svm.LinearSVC()),\n",
    "])"
   ]
  },
  {
   "cell_type": "code",
   "execution_count": 6,
   "metadata": {},
   "outputs": [
    {
     "data": {
      "text/plain": [
       "Pipeline(memory=None,\n",
       "         steps=[('vect',\n",
       "                 CountVectorizer(analyzer='word', binary=False,\n",
       "                                 decode_error='strict',\n",
       "                                 dtype=<class 'numpy.int64'>, encoding='utf-8',\n",
       "                                 input='content', lowercase=True, max_df=1.0,\n",
       "                                 max_features=None, min_df=1,\n",
       "                                 ngram_range=(1, 2), preprocessor=None,\n",
       "                                 stop_words=None, strip_accents=None,\n",
       "                                 token_pattern='(?u)\\\\b\\\\w\\\\w+\\\\b',\n",
       "                                 tokenizer=None, vocabulary=None)),\n",
       "                ('tfidf',\n",
       "                 TfidfTransformer(norm='l2', smooth_idf=True,\n",
       "                                  sublinear_tf=False, use_idf=True)),\n",
       "                ('clf',\n",
       "                 LinearSVC(C=1.0, class_weight=None, dual=True,\n",
       "                           fit_intercept=True, intercept_scaling=1,\n",
       "                           loss='squared_hinge', max_iter=1000,\n",
       "                           multi_class='ovr', penalty='l2', random_state=None,\n",
       "                           tol=0.0001, verbose=0))],\n",
       "         verbose=False)"
      ]
     },
     "execution_count": 6,
     "metadata": {},
     "output_type": "execute_result"
    }
   ],
   "source": [
    "text_clf.fit(train_data, train_target)"
   ]
  },
  {
   "cell_type": "code",
   "execution_count": 7,
   "metadata": {},
   "outputs": [
    {
     "data": {
      "text/plain": [
       "{'memory': None,\n",
       " 'steps': [('vect',\n",
       "   CountVectorizer(analyzer='word', binary=False, decode_error='strict',\n",
       "                   dtype=<class 'numpy.int64'>, encoding='utf-8', input='content',\n",
       "                   lowercase=True, max_df=1.0, max_features=None, min_df=1,\n",
       "                   ngram_range=(1, 2), preprocessor=None, stop_words=None,\n",
       "                   strip_accents=None, token_pattern='(?u)\\\\b\\\\w\\\\w+\\\\b',\n",
       "                   tokenizer=None, vocabulary=None)),\n",
       "  ('tfidf',\n",
       "   TfidfTransformer(norm='l2', smooth_idf=True, sublinear_tf=False, use_idf=True)),\n",
       "  ('clf',\n",
       "   LinearSVC(C=1.0, class_weight=None, dual=True, fit_intercept=True,\n",
       "             intercept_scaling=1, loss='squared_hinge', max_iter=1000,\n",
       "             multi_class='ovr', penalty='l2', random_state=None, tol=0.0001,\n",
       "             verbose=0))],\n",
       " 'verbose': False,\n",
       " 'vect': CountVectorizer(analyzer='word', binary=False, decode_error='strict',\n",
       "                 dtype=<class 'numpy.int64'>, encoding='utf-8', input='content',\n",
       "                 lowercase=True, max_df=1.0, max_features=None, min_df=1,\n",
       "                 ngram_range=(1, 2), preprocessor=None, stop_words=None,\n",
       "                 strip_accents=None, token_pattern='(?u)\\\\b\\\\w\\\\w+\\\\b',\n",
       "                 tokenizer=None, vocabulary=None),\n",
       " 'tfidf': TfidfTransformer(norm='l2', smooth_idf=True, sublinear_tf=False, use_idf=True),\n",
       " 'clf': LinearSVC(C=1.0, class_weight=None, dual=True, fit_intercept=True,\n",
       "           intercept_scaling=1, loss='squared_hinge', max_iter=1000,\n",
       "           multi_class='ovr', penalty='l2', random_state=None, tol=0.0001,\n",
       "           verbose=0),\n",
       " 'vect__analyzer': 'word',\n",
       " 'vect__binary': False,\n",
       " 'vect__decode_error': 'strict',\n",
       " 'vect__dtype': numpy.int64,\n",
       " 'vect__encoding': 'utf-8',\n",
       " 'vect__input': 'content',\n",
       " 'vect__lowercase': True,\n",
       " 'vect__max_df': 1.0,\n",
       " 'vect__max_features': None,\n",
       " 'vect__min_df': 1,\n",
       " 'vect__ngram_range': (1, 2),\n",
       " 'vect__preprocessor': None,\n",
       " 'vect__stop_words': None,\n",
       " 'vect__strip_accents': None,\n",
       " 'vect__token_pattern': '(?u)\\\\b\\\\w\\\\w+\\\\b',\n",
       " 'vect__tokenizer': None,\n",
       " 'vect__vocabulary': None,\n",
       " 'tfidf__norm': 'l2',\n",
       " 'tfidf__smooth_idf': True,\n",
       " 'tfidf__sublinear_tf': False,\n",
       " 'tfidf__use_idf': True,\n",
       " 'clf__C': 1.0,\n",
       " 'clf__class_weight': None,\n",
       " 'clf__dual': True,\n",
       " 'clf__fit_intercept': True,\n",
       " 'clf__intercept_scaling': 1,\n",
       " 'clf__loss': 'squared_hinge',\n",
       " 'clf__max_iter': 1000,\n",
       " 'clf__multi_class': 'ovr',\n",
       " 'clf__penalty': 'l2',\n",
       " 'clf__random_state': None,\n",
       " 'clf__tol': 0.0001,\n",
       " 'clf__verbose': 0}"
      ]
     },
     "execution_count": 7,
     "metadata": {},
     "output_type": "execute_result"
    }
   ],
   "source": [
    "text_clf.get_params()"
   ]
  },
  {
   "cell_type": "markdown",
   "metadata": {},
   "source": [
    "# Predict "
   ]
  },
  {
   "cell_type": "code",
   "execution_count": 8,
   "metadata": {},
   "outputs": [
    {
     "name": "stdout",
     "output_type": "stream",
     "text": [
      "'what is computer' => DESC\n",
      "'who is Newton' => HUM\n",
      "'when is the Tet holiday ?' => NUM\n"
     ]
    }
   ],
   "source": [
    "docs_new = ['what is computer', \n",
    "            'who is Newton', \n",
    "            'when is the Tet holiday ?']\n",
    "\n",
    "predicted = text_clf.predict(docs_new)\n",
    "for doc, category in zip(docs_new, predicted):\n",
    "    print('%r => %s' % (doc, id2label[category]))"
   ]
  },
  {
   "cell_type": "code",
   "execution_count": 9,
   "metadata": {},
   "outputs": [
    {
     "data": {
      "text/plain": [
       "0.886"
      ]
     },
     "execution_count": 9,
     "metadata": {},
     "output_type": "execute_result"
    }
   ],
   "source": [
    "# LinearSVC (1, 2) tfidf (5452, 32693)  ==> accurracy 0.9\n",
    "predicted = text_clf.predict(test_data)\n",
    "ncorrect = sum([y_pred == y for y_pred, y in zip (predicted, test_target)])\n",
    "accurracy = ncorrect / len(test_target)\n",
    "accurracy"
   ]
  },
  {
   "cell_type": "code",
   "execution_count": 10,
   "metadata": {},
   "outputs": [
    {
     "data": {
      "text/plain": [
       "0.886"
      ]
     },
     "execution_count": 10,
     "metadata": {},
     "output_type": "execute_result"
    }
   ],
   "source": [
    "y_pred = text_clf['clf'].predict(text_clf['tfidf'].transform(text_clf['vect'].transform(test_data)))\n",
    "ncorrect = sum([y_pred == y for y_pred, y in zip (predicted, test_target)])\n",
    "accurracy = ncorrect / len(test_target)\n",
    "accurracy"
   ]
  },
  {
   "cell_type": "markdown",
   "metadata": {},
   "source": [
    "# Separated"
   ]
  },
  {
   "cell_type": "code",
   "execution_count": 11,
   "metadata": {},
   "outputs": [
    {
     "name": "stdout",
     "output_type": "stream",
     "text": [
      "(5452, 8410)\n",
      "Gold/Ground Truth Label:\n",
      "[3, 1, 2, 4, 3, 3, 2, 0, 4, 4, 1, 2, 3, 2, 3, 3, 0, 2, 4, 3, 2, 4, 1, 4, 4, 2, 4, 1, 1, 1] ...\n",
      "['NUM', 'LOC', 'HUM', 'DESC', 'NUM', 'NUM', 'HUM', 'ENTY', 'DESC', 'DESC'] ...\n",
      "\n",
      "Number Item Predicted: 500\n",
      "System / Predicted Label:\n",
      "[3, 1, 2, 4, 3, 3, 2, 4, 4, 4, 1, 4, 3, 2, 3, 3, 1, 2, 4, 3, 2, 4, 1, 4, 4, 2, 4, 4, 1, 4] ...\n",
      "\n",
      "Result:\n",
      " ==> accurracy 0.87\n"
     ]
    }
   ],
   "source": [
    "from sklearn import svm\n",
    "from sklearn.pipeline import Pipeline\n",
    "from sklearn.feature_extraction.text import CountVectorizer, TfidfTransformer\n",
    "\n",
    "ngram_range  = (1,1)\n",
    "use_idf = False\n",
    "# step 1\n",
    "count_vect = CountVectorizer(ngram_range=ngram_range)\n",
    "X_train_counts = count_vect.fit_transform(train_data)        \n",
    "transformer = TfidfTransformer(use_idf=use_idf).fit(X_train_counts)\n",
    "X_train = transformer.transform(X_train_counts) \n",
    "print(X_train.shape)\n",
    "clf = svm.LinearSVC()\n",
    "\n",
    "# step2: evaluation\n",
    "clf.fit(X_train, train_target)\n",
    "\n",
    "# step3: evaluation\n",
    "\n",
    "print(\"Gold/Ground Truth Label:\")\n",
    "print(test_target[:30], \"...\")\n",
    "print([id2label[x] for x in test_target[:10]], \"...\")\n",
    "\n",
    "X_new_counts = count_vect.transform(test_data)\n",
    "X_new = transformer.transform(X_new_counts)\n",
    "predicted = clf.predict(X_new)\n",
    "print(\"\\nNumber Item Predicted:\", len(predicted))\n",
    "print(\"System / Predicted Label:\")\n",
    "print(list(predicted[:30]), \"...\")\n",
    "ncorrect = sum([y_pred == y for y_pred, y in zip (predicted, test_target)])\n",
    "accurracy = ncorrect / len(test_target)\n",
    "\n",
    "print(\"\\nResult:\")\n",
    "print(\" ==> accurracy\", accurracy)      "
   ]
  },
  {
   "cell_type": "code",
   "execution_count": null,
   "metadata": {},
   "outputs": [],
   "source": [
    "\n"
   ]
  },
  {
   "cell_type": "code",
   "execution_count": null,
   "metadata": {},
   "outputs": [],
   "source": []
  },
  {
   "cell_type": "code",
   "execution_count": null,
   "metadata": {},
   "outputs": [],
   "source": []
  },
  {
   "cell_type": "code",
   "execution_count": null,
   "metadata": {},
   "outputs": [],
   "source": []
  },
  {
   "cell_type": "code",
   "execution_count": null,
   "metadata": {},
   "outputs": [],
   "source": []
  },
  {
   "cell_type": "code",
   "execution_count": null,
   "metadata": {},
   "outputs": [],
   "source": []
  },
  {
   "cell_type": "code",
   "execution_count": null,
   "metadata": {},
   "outputs": [],
   "source": []
  },
  {
   "cell_type": "code",
   "execution_count": null,
   "metadata": {},
   "outputs": [],
   "source": []
  },
  {
   "cell_type": "code",
   "execution_count": null,
   "metadata": {},
   "outputs": [],
   "source": []
  },
  {
   "cell_type": "code",
   "execution_count": null,
   "metadata": {},
   "outputs": [],
   "source": []
  },
  {
   "cell_type": "code",
   "execution_count": 8,
   "metadata": {},
   "outputs": [],
   "source": []
  },
  {
   "cell_type": "code",
   "execution_count": null,
   "metadata": {},
   "outputs": [],
   "source": []
  },
  {
   "cell_type": "code",
   "execution_count": null,
   "metadata": {},
   "outputs": [],
   "source": []
  }
 ],
 "metadata": {
  "kernelspec": {
   "display_name": "py36_cpu",
   "language": "python",
   "name": "py36_cpu"
  },
  "language_info": {
   "codemirror_mode": {
    "name": "ipython",
    "version": 3
   },
   "file_extension": ".py",
   "mimetype": "text/x-python",
   "name": "python",
   "nbconvert_exporter": "python",
   "pygments_lexer": "ipython3",
   "version": "3.6.10"
  }
 },
 "nbformat": 4,
 "nbformat_minor": 4
}
