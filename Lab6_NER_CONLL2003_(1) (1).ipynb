{
 "cells": [
  {
   "cell_type": "code",
   "execution_count": 1,
   "metadata": {
    "colab": {
     "base_uri": "https://localhost:8080/"
    },
    "id": "Cl_N3Het1WYb",
    "outputId": "8b4e2a1d-e8a7-42ba-b914-19ee6284f074"
   },
   "outputs": [
    {
     "name": "stdout",
     "output_type": "stream",
     "text": [
      "Drive already mounted at /content/drive; to attempt to forcibly remount, call drive.mount(\"/content/drive\", force_remount=True).\n"
     ]
    }
   ],
   "source": [
    "# Sử dụng trong trường hợp lấy mount dữ liệu với Google Drive\n",
    "# from google.colab import drive\n",
    "# drive.mount('/content/drive')"
   ]
  },
  {
   "cell_type": "code",
   "execution_count": 2,
   "metadata": {
    "colab": {
     "base_uri": "https://localhost:8080/"
    },
    "id": "nfzc38cZ1kIj",
    "outputId": "97372054-43ed-4232-fae7-e15aeb1ebe9a"
   },
   "outputs": [
    {
     "name": "stdout",
     "output_type": "stream",
     "text": [
      "Requirement already satisfied: sklearn-crfsuite in /usr/local/lib/python3.7/dist-packages (0.3.6)\n",
      "Requirement already satisfied: python-crfsuite>=0.8.3 in /usr/local/lib/python3.7/dist-packages (from sklearn-crfsuite) (0.9.7)\n",
      "Requirement already satisfied: tabulate in /usr/local/lib/python3.7/dist-packages (from sklearn-crfsuite) (0.8.9)\n",
      "Requirement already satisfied: tqdm>=2.0 in /usr/local/lib/python3.7/dist-packages (from sklearn-crfsuite) (4.62.3)\n",
      "Requirement already satisfied: six in /usr/local/lib/python3.7/dist-packages (from sklearn-crfsuite) (1.15.0)\n"
     ]
    }
   ],
   "source": [
    "! pip install sklearn-crfsuite\n",
    "! pip uninstall scikit-learn\n",
    "! pip install -U scikit-learn\n"
   ]
  },
  {
   "cell_type": "code",
   "execution_count": 1,
   "metadata": {
    "id": "Pl6Gk7lg1TkU"
   },
   "outputs": [],
   "source": [
    "import nltk\n",
    "import pickle\n",
    "import sklearn_crfsuite\n",
    "from nltk.corpus.reader import ConllCorpusReader\n",
    "from sklearn_crfsuite import metrics"
   ]
  },
  {
   "cell_type": "code",
   "execution_count": 2,
   "metadata": {
    "colab": {
     "base_uri": "https://localhost:8080/"
    },
    "id": "xNXlhq3n1TkY",
    "outputId": "595a03ff-3d9d-40c4-8718-39b475ec4815"
   },
   "outputs": [
    {
     "name": "stdout",
     "output_type": "stream",
     "text": [
      "eng.testa  eng.testb  eng.train  test.txt  train.txt  valid.txt\n"
     ]
    }
   ],
   "source": [
    "! ls /content/drive/MyDrive/text-mining-tutorial-data/CoNLL-2003"
   ]
  },
  {
   "cell_type": "code",
   "execution_count": 3,
   "metadata": {
    "colab": {
     "base_uri": "https://localhost:8080/"
    },
    "id": "SkyUFpRP1TkY",
    "outputId": "c95f537b-3b00-46c5-c52c-c726819e766f"
   },
   "outputs": [
    {
     "name": "stdout",
     "output_type": "stream",
     "text": [
      "ls: cannot access 'CoNLL-2003': No such file or directory\n",
      "-DOCSTART- -X- -X- O\n",
      "\n",
      "EU NNP B-NP B-ORG\n",
      "rejects VBZ B-VP O\n",
      "German JJ B-NP B-MISC\n",
      "call NN I-NP O\n",
      "to TO B-VP O\n",
      "boycott VB I-VP O\n",
      "British JJ B-NP B-MISC\n",
      "lamb NN I-NP O\n",
      ". . O O\n",
      "\n",
      "Peter NNP B-NP B-PER\n",
      "Blackburn NNP I-NP I-PER\n",
      "\n",
      "BRUSSELS NNP B-NP B-LOC\n",
      "1996-08-22 CD I-NP O\n",
      "\n",
      "The DT B-NP O\n",
      "European NNP I-NP B-ORG\n"
     ]
    }
   ],
   "source": [
    "! ls CoNLL-2003\n",
    " # Đường dẫn của thư mục chứa dữ liệu \n",
    "! head -20 \"/content/drive/MyDrive/text-mining-tutorial-data/CoNLL-2003/train.txt\"\n",
    "# Định dạng CONLL \n",
    "# Dữ liệu huấn luyện là những câu tiếng anh đã được gán nhãn NER: PER, LOC, ORG, MISC \n",
    "# \"EU rejects German call ...\""
   ]
  },
  {
   "cell_type": "code",
   "execution_count": 2,
   "metadata": {
    "id": "ItPUu_nA1TkZ"
   },
   "outputs": [],
   "source": [
    "import nltk\n",
    "import os \n",
    "\n",
    "# nltk.download('punkt') # Simple tokenization\n",
    "# nltk.download('averaged_perceptron_tagger') # English POS tagging\n",
    "\n",
    "# data_folder = \"/content/drive/MyDrive/text-mining-tutorial-data/CoNLL-2003\"\n",
    "data_folder = \"CoNLL-2003\"\n",
    "from nltk.corpus.reader import ConllCorpusReader\n",
    "train_sents = ConllCorpusReader(data_folder, 'train.txt', ['words', 'pos', 'ignore', 'chunk']).iob_sents()\n",
    "test_sents = ConllCorpusReader(data_folder, 'valid.txt', ['words', 'pos', 'ignore', 'chunk']).iob_sents()"
   ]
  },
  {
   "cell_type": "code",
   "execution_count": 3,
   "metadata": {
    "id": "XlZApH3Q1Tka"
   },
   "outputs": [],
   "source": [
    "# Bỏ các câu rỗng do lỗi dữ liệu\n",
    "train_sents = [x for x in train_sents if len(x) > 0]\n",
    "test_sents = [x for x in test_sents if len(x) > 0]"
   ]
  },
  {
   "cell_type": "code",
   "execution_count": 21,
   "metadata": {
    "colab": {
     "base_uri": "https://localhost:8080/",
     "height": 424
    },
    "id": "_QZchP281Tkb",
    "outputId": "af08849e-563d-4666-9277-1d22234cb15c"
   },
   "outputs": [
    {
     "name": "stdout",
     "output_type": "stream",
     "text": [
      "[[('EU', 'NNP', 'B-ORG'), ('rejects', 'VBZ', 'O'), ('German', 'JJ', 'B-MISC'), ('call', 'NN', 'O'), ('to', 'TO', 'O'), ('boycott', 'VB', 'O'), ('British', 'JJ', 'B-MISC'), ('lamb', 'NN', 'O'), ('.', '.', 'O')], [('Peter', 'NNP', 'B-PER'), ('Blackburn', 'NNP', 'I-PER')], [('BRUSSELS', 'NNP', 'B-LOC'), ('1996-08-22', 'CD', 'O')]]\n"
     ]
    },
    {
     "data": {
      "text/html": [
       "<div>\n",
       "<style scoped>\n",
       "    .dataframe tbody tr th:only-of-type {\n",
       "        vertical-align: middle;\n",
       "    }\n",
       "\n",
       "    .dataframe tbody tr th {\n",
       "        vertical-align: top;\n",
       "    }\n",
       "\n",
       "    .dataframe thead th {\n",
       "        text-align: right;\n",
       "    }\n",
       "</style>\n",
       "<table border=\"1\" class=\"dataframe\">\n",
       "  <thead>\n",
       "    <tr style=\"text-align: right;\">\n",
       "      <th></th>\n",
       "      <th>token</th>\n",
       "      <th>postag</th>\n",
       "      <th>label</th>\n",
       "    </tr>\n",
       "  </thead>\n",
       "  <tbody>\n",
       "    <tr>\n",
       "      <th>0</th>\n",
       "      <td>EU</td>\n",
       "      <td>NNP</td>\n",
       "      <td>B-ORG</td>\n",
       "    </tr>\n",
       "    <tr>\n",
       "      <th>1</th>\n",
       "      <td>rejects</td>\n",
       "      <td>VBZ</td>\n",
       "      <td>O</td>\n",
       "    </tr>\n",
       "    <tr>\n",
       "      <th>2</th>\n",
       "      <td>German</td>\n",
       "      <td>JJ</td>\n",
       "      <td>B-MISC</td>\n",
       "    </tr>\n",
       "    <tr>\n",
       "      <th>3</th>\n",
       "      <td>call</td>\n",
       "      <td>NN</td>\n",
       "      <td>O</td>\n",
       "    </tr>\n",
       "    <tr>\n",
       "      <th>4</th>\n",
       "      <td>to</td>\n",
       "      <td>TO</td>\n",
       "      <td>O</td>\n",
       "    </tr>\n",
       "    <tr>\n",
       "      <th>...</th>\n",
       "      <td>...</td>\n",
       "      <td>...</td>\n",
       "      <td>...</td>\n",
       "    </tr>\n",
       "    <tr>\n",
       "      <th>217657</th>\n",
       "      <td>Swansea</td>\n",
       "      <td>NN</td>\n",
       "      <td>B-ORG</td>\n",
       "    </tr>\n",
       "    <tr>\n",
       "      <th>217658</th>\n",
       "      <td>1</td>\n",
       "      <td>CD</td>\n",
       "      <td>O</td>\n",
       "    </tr>\n",
       "    <tr>\n",
       "      <th>217659</th>\n",
       "      <td>Lincoln</td>\n",
       "      <td>NNP</td>\n",
       "      <td>B-ORG</td>\n",
       "    </tr>\n",
       "    <tr>\n",
       "      <th>217660</th>\n",
       "      <td>2</td>\n",
       "      <td>CD</td>\n",
       "      <td>O</td>\n",
       "    </tr>\n",
       "    <tr>\n",
       "      <th>217661</th>\n",
       "      <td></td>\n",
       "      <td></td>\n",
       "      <td></td>\n",
       "    </tr>\n",
       "  </tbody>\n",
       "</table>\n",
       "<p>217662 rows × 3 columns</p>\n",
       "</div>"
      ],
      "text/plain": [
       "          token postag   label\n",
       "0            EU    NNP   B-ORG\n",
       "1       rejects    VBZ       O\n",
       "2        German     JJ  B-MISC\n",
       "3          call     NN       O\n",
       "4            to     TO       O\n",
       "...         ...    ...     ...\n",
       "217657  Swansea     NN   B-ORG\n",
       "217658        1     CD       O\n",
       "217659  Lincoln    NNP   B-ORG\n",
       "217660        2     CD       O\n",
       "217661                        \n",
       "\n",
       "[217662 rows x 3 columns]"
      ]
     },
     "execution_count": 21,
     "metadata": {},
     "output_type": "execute_result"
    }
   ],
   "source": [
    "# Xem một số câu ví dụ \n",
    "print(train_sents[:3])\n",
    "\n",
    "import pandas as pd\n",
    "ll = []\n",
    "for s in train_sents:\n",
    "    for t in s: \n",
    "        ll.append({'token': t[0], 'postag': t[1], 'label': t[2]})\n",
    "    ll.append({'token': '', 'postag': '', 'label': ''})\n",
    "\n",
    "pd.set_option('display.max_columns', None)\n",
    "pd.set_option(\"max_rows\", 100)\n",
    "df = pd.DataFrame(ll)\n",
    "df"
   ]
  },
  {
   "cell_type": "markdown",
   "metadata": {
    "id": "RfS4xlxb1Tkb"
   },
   "source": [
    "# Rút trích đặc trưng của từ, biểu diễn câu thành vector các đặc trưng"
   ]
  },
  {
   "cell_type": "code",
   "execution_count": 7,
   "metadata": {
    "id": "eTVsGgbs1Tkd"
   },
   "outputs": [],
   "source": [
    "def word2features(sent, i):\n",
    "    word = sent[i][0]\n",
    "    postag = sent[i][1]\n",
    "\n",
    "    features = {\n",
    "        'bias': 1.0,\n",
    "        'word.lower()': word.lower(),\n",
    "        'word[-3:]': word[-3:],\n",
    "        'word[-2:]': word[-2:],\n",
    "        'word.isupper()': word.isupper(),\n",
    "        'word.istitle()': word.istitle(),\n",
    "        'word.isdigit()': word.isdigit(),\n",
    "        'postag': postag, #VB, VBZ\n",
    "        'postag[:2]': postag[:2],\n",
    "    }\n",
    "    if i > 0:\n",
    "        word1 = sent[i-1][0]\n",
    "        postag1 = sent[i-1][1]\n",
    "        features.update({\n",
    "            '-1:word.lower()': word1.lower(),\n",
    "            '-1:word.istitle()': word1.istitle(),\n",
    "            '-1:word.isupper()': word1.isupper(),\n",
    "            '-1:postag': postag1,\n",
    "            '-1:postag[:2]': postag1[:2],\n",
    "        })\n",
    "    else:\n",
    "        features['BOS'] = True\n",
    "\n",
    "    if i < len(sent)-1:\n",
    "        word1 = sent[i+1][0]\n",
    "        postag1 = sent[i+1][1]\n",
    "        features.update({\n",
    "            '+1:word.lower()': word1.lower(),\n",
    "            '+1:word.istitle()': word1.istitle(),\n",
    "            '+1:word.isupper()': word1.isupper(),\n",
    "            '+1:postag': postag1,\n",
    "            '+1:postag[:2]': postag1[:2],\n",
    "        })\n",
    "    else:\n",
    "        features['EOS'] = True\n",
    "\n",
    "    return features\n",
    "\n",
    "\n",
    "def sent2features(sent):\n",
    "    return [word2features(sent, i) for i in range(len(sent))]\n",
    "\n",
    "def sent2labels(sent):\n",
    "    return [label for token, postag, label in sent]\n",
    "\n",
    "def sent2tokens(sent):\n",
    "    return [token for token, postag, label in sent]"
   ]
  },
  {
   "cell_type": "code",
   "execution_count": 8,
   "metadata": {
    "colab": {
     "base_uri": "https://localhost:8080/"
    },
    "id": "_fH4urdO1Tkf",
    "outputId": "4b945429-13e8-4f7f-97a7-8f0c3a747199"
   },
   "outputs": [
    {
     "data": {
      "text/plain": [
       "[{'bias': 1.0,\n",
       "  'word.lower()': 'eu',\n",
       "  'word[-3:]': 'EU',\n",
       "  'word[-2:]': 'EU',\n",
       "  'word.isupper()': True,\n",
       "  'word.istitle()': False,\n",
       "  'word.isdigit()': False,\n",
       "  'postag': 'NNP',\n",
       "  'postag[:2]': 'NN',\n",
       "  'BOS': True,\n",
       "  '+1:word.lower()': 'rejects',\n",
       "  '+1:word.istitle()': False,\n",
       "  '+1:word.isupper()': False,\n",
       "  '+1:postag': 'VBZ',\n",
       "  '+1:postag[:2]': 'VB'},\n",
       " {'bias': 1.0,\n",
       "  'word.lower()': 'rejects',\n",
       "  'word[-3:]': 'cts',\n",
       "  'word[-2:]': 'ts',\n",
       "  'word.isupper()': False,\n",
       "  'word.istitle()': False,\n",
       "  'word.isdigit()': False,\n",
       "  'postag': 'VBZ',\n",
       "  'postag[:2]': 'VB',\n",
       "  '-1:word.lower()': 'eu',\n",
       "  '-1:word.istitle()': False,\n",
       "  '-1:word.isupper()': True,\n",
       "  '-1:postag': 'NNP',\n",
       "  '-1:postag[:2]': 'NN',\n",
       "  '+1:word.lower()': 'german',\n",
       "  '+1:word.istitle()': True,\n",
       "  '+1:word.isupper()': False,\n",
       "  '+1:postag': 'JJ',\n",
       "  '+1:postag[:2]': 'JJ'},\n",
       " {'bias': 1.0,\n",
       "  'word.lower()': 'german',\n",
       "  'word[-3:]': 'man',\n",
       "  'word[-2:]': 'an',\n",
       "  'word.isupper()': False,\n",
       "  'word.istitle()': True,\n",
       "  'word.isdigit()': False,\n",
       "  'postag': 'JJ',\n",
       "  'postag[:2]': 'JJ',\n",
       "  '-1:word.lower()': 'rejects',\n",
       "  '-1:word.istitle()': False,\n",
       "  '-1:word.isupper()': False,\n",
       "  '-1:postag': 'VBZ',\n",
       "  '-1:postag[:2]': 'VB',\n",
       "  '+1:word.lower()': 'call',\n",
       "  '+1:word.istitle()': False,\n",
       "  '+1:word.isupper()': False,\n",
       "  '+1:postag': 'NN',\n",
       "  '+1:postag[:2]': 'NN'},\n",
       " {'bias': 1.0,\n",
       "  'word.lower()': 'call',\n",
       "  'word[-3:]': 'all',\n",
       "  'word[-2:]': 'll',\n",
       "  'word.isupper()': False,\n",
       "  'word.istitle()': False,\n",
       "  'word.isdigit()': False,\n",
       "  'postag': 'NN',\n",
       "  'postag[:2]': 'NN',\n",
       "  '-1:word.lower()': 'german',\n",
       "  '-1:word.istitle()': True,\n",
       "  '-1:word.isupper()': False,\n",
       "  '-1:postag': 'JJ',\n",
       "  '-1:postag[:2]': 'JJ',\n",
       "  '+1:word.lower()': 'to',\n",
       "  '+1:word.istitle()': False,\n",
       "  '+1:word.isupper()': False,\n",
       "  '+1:postag': 'TO',\n",
       "  '+1:postag[:2]': 'TO'},\n",
       " {'bias': 1.0,\n",
       "  'word.lower()': 'to',\n",
       "  'word[-3:]': 'to',\n",
       "  'word[-2:]': 'to',\n",
       "  'word.isupper()': False,\n",
       "  'word.istitle()': False,\n",
       "  'word.isdigit()': False,\n",
       "  'postag': 'TO',\n",
       "  'postag[:2]': 'TO',\n",
       "  '-1:word.lower()': 'call',\n",
       "  '-1:word.istitle()': False,\n",
       "  '-1:word.isupper()': False,\n",
       "  '-1:postag': 'NN',\n",
       "  '-1:postag[:2]': 'NN',\n",
       "  '+1:word.lower()': 'boycott',\n",
       "  '+1:word.istitle()': False,\n",
       "  '+1:word.isupper()': False,\n",
       "  '+1:postag': 'VB',\n",
       "  '+1:postag[:2]': 'VB'},\n",
       " {'bias': 1.0,\n",
       "  'word.lower()': 'boycott',\n",
       "  'word[-3:]': 'ott',\n",
       "  'word[-2:]': 'tt',\n",
       "  'word.isupper()': False,\n",
       "  'word.istitle()': False,\n",
       "  'word.isdigit()': False,\n",
       "  'postag': 'VB',\n",
       "  'postag[:2]': 'VB',\n",
       "  '-1:word.lower()': 'to',\n",
       "  '-1:word.istitle()': False,\n",
       "  '-1:word.isupper()': False,\n",
       "  '-1:postag': 'TO',\n",
       "  '-1:postag[:2]': 'TO',\n",
       "  '+1:word.lower()': 'british',\n",
       "  '+1:word.istitle()': True,\n",
       "  '+1:word.isupper()': False,\n",
       "  '+1:postag': 'JJ',\n",
       "  '+1:postag[:2]': 'JJ'},\n",
       " {'bias': 1.0,\n",
       "  'word.lower()': 'british',\n",
       "  'word[-3:]': 'ish',\n",
       "  'word[-2:]': 'sh',\n",
       "  'word.isupper()': False,\n",
       "  'word.istitle()': True,\n",
       "  'word.isdigit()': False,\n",
       "  'postag': 'JJ',\n",
       "  'postag[:2]': 'JJ',\n",
       "  '-1:word.lower()': 'boycott',\n",
       "  '-1:word.istitle()': False,\n",
       "  '-1:word.isupper()': False,\n",
       "  '-1:postag': 'VB',\n",
       "  '-1:postag[:2]': 'VB',\n",
       "  '+1:word.lower()': 'lamb',\n",
       "  '+1:word.istitle()': False,\n",
       "  '+1:word.isupper()': False,\n",
       "  '+1:postag': 'NN',\n",
       "  '+1:postag[:2]': 'NN'},\n",
       " {'bias': 1.0,\n",
       "  'word.lower()': 'lamb',\n",
       "  'word[-3:]': 'amb',\n",
       "  'word[-2:]': 'mb',\n",
       "  'word.isupper()': False,\n",
       "  'word.istitle()': False,\n",
       "  'word.isdigit()': False,\n",
       "  'postag': 'NN',\n",
       "  'postag[:2]': 'NN',\n",
       "  '-1:word.lower()': 'british',\n",
       "  '-1:word.istitle()': True,\n",
       "  '-1:word.isupper()': False,\n",
       "  '-1:postag': 'JJ',\n",
       "  '-1:postag[:2]': 'JJ',\n",
       "  '+1:word.lower()': '.',\n",
       "  '+1:word.istitle()': False,\n",
       "  '+1:word.isupper()': False,\n",
       "  '+1:postag': '.',\n",
       "  '+1:postag[:2]': '.'},\n",
       " {'bias': 1.0,\n",
       "  'word.lower()': '.',\n",
       "  'word[-3:]': '.',\n",
       "  'word[-2:]': '.',\n",
       "  'word.isupper()': False,\n",
       "  'word.istitle()': False,\n",
       "  'word.isdigit()': False,\n",
       "  'postag': '.',\n",
       "  'postag[:2]': '.',\n",
       "  '-1:word.lower()': 'lamb',\n",
       "  '-1:word.istitle()': False,\n",
       "  '-1:word.isupper()': False,\n",
       "  '-1:postag': 'NN',\n",
       "  '-1:postag[:2]': 'NN',\n",
       "  'EOS': True}]"
      ]
     },
     "execution_count": 8,
     "metadata": {},
     "output_type": "execute_result"
    }
   ],
   "source": [
    "# Xem kết quả của việc rút trích đặc trưng\n",
    "sent2features(train_sents[0])\n"
   ]
  },
  {
   "cell_type": "markdown",
   "metadata": {
    "id": "KbtpFtto1Tkf"
   },
   "source": [
    "# Chuyển dataset thành dạng biểu diễn đặc trưng cho CRF\n"
   ]
  },
  {
   "cell_type": "code",
   "execution_count": 9,
   "metadata": {
    "colab": {
     "base_uri": "https://localhost:8080/"
    },
    "id": "SP3T7mTz1Tkg",
    "outputId": "8310c4ce-4976-407a-a1a4-addccf70d15b"
   },
   "outputs": [
    {
     "name": "stdout",
     "output_type": "stream",
     "text": [
      "CPU times: user 1.18 s, sys: 178 ms, total: 1.35 s\n",
      "Wall time: 1.35 s\n"
     ]
    }
   ],
   "source": [
    "%%time\n",
    "X_train = [sent2features(s) for s in train_sents]\n",
    "y_train = [sent2labels(s) for s in train_sents]\n",
    "\n",
    "X_test = [sent2features(s) for s in test_sents]\n",
    "y_test = [sent2labels(s) for s in test_sents]\n"
   ]
  },
  {
   "cell_type": "code",
   "execution_count": 10,
   "metadata": {
    "colab": {
     "base_uri": "https://localhost:8080/"
    },
    "id": "_2cAk7tg1Tkh",
    "outputId": "7fa5b6a4-de7d-4db9-caa7-4e8411827386"
   },
   "outputs": [
    {
     "name": "stdout",
     "output_type": "stream",
     "text": [
      "9\n",
      "9\n",
      "{'bias': 1.0, 'word.lower()': 'german', 'word[-3:]': 'man', 'word[-2:]': 'an', 'word.isupper()': False, 'word.istitle()': True, 'word.isdigit()': False, 'postag': 'JJ', 'postag[:2]': 'JJ', '-1:word.lower()': 'rejects', '-1:word.istitle()': False, '-1:word.isupper()': False, '-1:postag': 'VBZ', '-1:postag[:2]': 'VB', '+1:word.lower()': 'call', '+1:word.istitle()': False, '+1:word.isupper()': False, '+1:postag': 'NN', '+1:postag[:2]': 'NN'}\n",
      "B-MISC\n"
     ]
    }
   ],
   "source": [
    "print(len(X_train[0]))\n",
    "print(len(y_train[0]))\n",
    "print(X_train[0][2])\n",
    "print(y_train[0][2])"
   ]
  },
  {
   "cell_type": "markdown",
   "metadata": {
    "id": "u_N1pqAC1Tkh"
   },
   "source": [
    "# Huấn luyện CRF\n"
   ]
  },
  {
   "cell_type": "code",
   "execution_count": 11,
   "metadata": {
    "colab": {
     "base_uri": "https://localhost:8080/"
    },
    "id": "b0JRWM2s1Tkh",
    "outputId": "bcf30096-ce3c-441d-d1fc-0d3340a585b1"
   },
   "outputs": [
    {
     "name": "stderr",
     "output_type": "stream",
     "text": [
      "loading training data to CRFsuite: 100%|██████████| 14041/14041 [00:03<00:00, 3702.47it/s]\n"
     ]
    },
    {
     "name": "stdout",
     "output_type": "stream",
     "text": [
      "\n",
      "Feature generation\n",
      "type: CRF1d\n",
      "feature.minfreq: 0.000000\n",
      "feature.possible_states: 0\n",
      "feature.possible_transitions: 1\n",
      "0....1....2....3....4....5....6....7....8....9....10\n",
      "Number of features: 86687\n",
      "Seconds required: 0.850\n",
      "\n",
      "L-BFGS optimization\n",
      "c1: 0.100000\n",
      "c2: 0.100000\n",
      "num_memories: 6\n",
      "max_iterations: 100\n",
      "epsilon: 0.000010\n",
      "stop: 10\n",
      "delta: 0.000010\n",
      "linesearch: MoreThuente\n",
      "linesearch.max_iterations: 20\n",
      "\n",
      "Iter 1   time=0.94  loss=232367.34 active=86384 feature_norm=1.00\n",
      "Iter 2   time=0.44  loss=217022.74 active=83848 feature_norm=3.45\n",
      "Iter 3   time=0.44  loss=161383.49 active=83844 feature_norm=2.99\n",
      "Iter 4   time=1.34  loss=119552.24 active=83579 feature_norm=2.74\n",
      "Iter 5   time=0.44  loss=94630.26 active=86129 feature_norm=3.20\n",
      "Iter 6   time=0.42  loss=88330.83 active=85472 feature_norm=3.56\n",
      "Iter 7   time=0.43  loss=71522.54 active=80105 feature_norm=5.12\n",
      "Iter 8   time=0.43  loss=61055.57 active=64864 feature_norm=6.38\n",
      "Iter 9   time=0.42  loss=54560.88 active=61779 feature_norm=7.80\n",
      "Iter 10  time=0.42  loss=51008.46 active=60961 feature_norm=8.55\n",
      "Iter 11  time=0.45  loss=47614.30 active=59392 feature_norm=9.55\n",
      "Iter 12  time=0.46  loss=44079.27 active=57533 feature_norm=11.27\n",
      "Iter 13  time=0.46  loss=40537.62 active=56452 feature_norm=13.05\n",
      "Iter 14  time=0.44  loss=37682.10 active=54690 feature_norm=15.26\n",
      "Iter 15  time=0.44  loss=35267.10 active=53295 feature_norm=17.32\n",
      "Iter 16  time=0.45  loss=32895.02 active=52239 feature_norm=19.83\n",
      "Iter 17  time=0.41  loss=30522.84 active=51527 feature_norm=23.17\n",
      "Iter 18  time=0.52  loss=27634.95 active=50530 feature_norm=27.28\n",
      "Iter 19  time=0.47  loss=24968.88 active=48502 feature_norm=33.06\n",
      "Iter 20  time=0.42  loss=22881.99 active=47935 feature_norm=37.60\n",
      "Iter 21  time=0.39  loss=20896.11 active=47474 feature_norm=42.08\n",
      "Iter 22  time=0.42  loss=18504.24 active=45677 feature_norm=51.18\n",
      "Iter 23  time=0.85  loss=17597.41 active=45388 feature_norm=57.24\n",
      "Iter 24  time=0.47  loss=16002.47 active=45240 feature_norm=62.08\n",
      "Iter 25  time=0.46  loss=14868.76 active=44778 feature_norm=67.72\n",
      "Iter 26  time=0.47  loss=13354.86 active=43316 feature_norm=78.18\n",
      "Iter 27  time=0.45  loss=12070.60 active=42741 feature_norm=87.33\n",
      "Iter 28  time=0.46  loss=11258.35 active=42789 feature_norm=91.79\n",
      "Iter 29  time=0.42  loss=10316.97 active=41681 feature_norm=99.70\n",
      "Iter 30  time=0.40  loss=9654.87  active=40556 feature_norm=107.03\n",
      "Iter 31  time=0.41  loss=8989.36  active=40400 feature_norm=113.18\n",
      "Iter 32  time=0.41  loss=8587.66  active=40020 feature_norm=117.52\n",
      "Iter 33  time=0.44  loss=8090.88  active=38227 feature_norm=124.06\n",
      "Iter 34  time=0.44  loss=7725.09  active=36713 feature_norm=127.58\n",
      "Iter 35  time=0.41  loss=7488.86  active=36247 feature_norm=130.44\n",
      "Iter 36  time=0.43  loss=7256.28  active=35064 feature_norm=133.41\n",
      "Iter 37  time=0.46  loss=7071.11  active=34702 feature_norm=135.91\n",
      "Iter 38  time=0.56  loss=6941.14  active=34516 feature_norm=137.56\n",
      "Iter 39  time=0.55  loss=6842.52  active=34206 feature_norm=139.03\n",
      "Iter 40  time=0.50  loss=6760.20  active=32448 feature_norm=141.59\n",
      "Iter 41  time=0.55  loss=6698.97  active=32415 feature_norm=142.19\n",
      "Iter 42  time=0.52  loss=6658.05  active=31926 feature_norm=142.86\n",
      "Iter 43  time=0.50  loss=6610.85  active=31126 feature_norm=144.18\n",
      "Iter 44  time=0.43  loss=6588.73  active=30973 feature_norm=144.67\n",
      "Iter 45  time=0.55  loss=6555.18  active=31095 feature_norm=144.64\n",
      "Iter 46  time=0.52  loss=6539.32  active=30917 feature_norm=144.69\n",
      "Iter 47  time=0.47  loss=6516.53  active=30564 feature_norm=144.78\n",
      "Iter 48  time=0.46  loss=6480.51  active=29992 feature_norm=144.60\n",
      "Iter 49  time=0.91  loss=6469.61  active=29661 feature_norm=144.81\n",
      "Iter 50  time=0.45  loss=6444.13  active=29557 feature_norm=144.69\n",
      "Iter 51  time=0.50  loss=6426.50  active=29168 feature_norm=144.78\n",
      "Iter 52  time=0.43  loss=6412.01  active=28733 feature_norm=144.99\n",
      "Iter 53  time=0.48  loss=6393.27  active=28679 feature_norm=145.16\n",
      "Iter 54  time=0.45  loss=6384.95  active=28550 feature_norm=145.20\n",
      "Iter 55  time=0.43  loss=6373.18  active=28316 feature_norm=145.26\n",
      "Iter 56  time=0.45  loss=6361.27  active=28130 feature_norm=145.28\n",
      "Iter 57  time=0.43  loss=6351.65  active=28051 feature_norm=145.30\n",
      "Iter 58  time=0.42  loss=6343.71  active=27938 feature_norm=145.29\n",
      "Iter 59  time=0.45  loss=6334.07  active=27787 feature_norm=145.26\n",
      "Iter 60  time=0.45  loss=6326.09  active=27614 feature_norm=145.20\n",
      "Iter 61  time=0.50  loss=6319.18  active=27478 feature_norm=145.20\n",
      "Iter 62  time=0.45  loss=6312.73  active=27325 feature_norm=145.13\n",
      "Iter 63  time=0.43  loss=6306.90  active=27180 feature_norm=145.10\n",
      "Iter 64  time=0.41  loss=6301.91  active=27093 feature_norm=145.06\n",
      "Iter 65  time=0.42  loss=6296.34  active=26976 feature_norm=145.02\n",
      "Iter 66  time=0.44  loss=6290.52  active=26843 feature_norm=144.94\n",
      "Iter 67  time=0.42  loss=6285.49  active=26729 feature_norm=144.91\n",
      "Iter 68  time=0.40  loss=6281.28  active=26658 feature_norm=144.87\n",
      "Iter 69  time=0.41  loss=6276.98  active=26588 feature_norm=144.85\n",
      "Iter 70  time=0.42  loss=6272.96  active=26513 feature_norm=144.79\n",
      "Iter 71  time=0.42  loss=6269.32  active=26423 feature_norm=144.77\n",
      "Iter 72  time=0.48  loss=6265.30  active=26397 feature_norm=144.73\n",
      "Iter 73  time=0.45  loss=6262.06  active=26355 feature_norm=144.73\n",
      "Iter 74  time=0.46  loss=6258.82  active=26331 feature_norm=144.70\n",
      "Iter 75  time=0.46  loss=6256.74  active=26259 feature_norm=144.69\n",
      "Iter 76  time=0.45  loss=6253.72  active=26221 feature_norm=144.66\n",
      "Iter 77  time=0.46  loss=6251.50  active=26208 feature_norm=144.66\n",
      "Iter 78  time=0.42  loss=6249.27  active=26187 feature_norm=144.65\n",
      "Iter 79  time=0.40  loss=6247.05  active=26173 feature_norm=144.65\n",
      "Iter 80  time=0.42  loss=6245.59  active=26132 feature_norm=144.64\n",
      "Iter 81  time=0.43  loss=6243.33  active=26091 feature_norm=144.65\n",
      "Iter 82  time=0.44  loss=6241.47  active=26070 feature_norm=144.64\n",
      "Iter 83  time=0.40  loss=6239.33  active=26035 feature_norm=144.65\n",
      "Iter 84  time=0.42  loss=6238.09  active=26022 feature_norm=144.65\n",
      "Iter 85  time=0.43  loss=6236.20  active=25989 feature_norm=144.65\n",
      "Iter 86  time=0.44  loss=6235.04  active=25974 feature_norm=144.65\n",
      "Iter 87  time=0.46  loss=6233.33  active=25950 feature_norm=144.66\n",
      "Iter 88  time=0.53  loss=6231.97  active=25940 feature_norm=144.66\n",
      "Iter 89  time=0.44  loss=6230.31  active=25914 feature_norm=144.67\n",
      "Iter 90  time=0.42  loss=6229.00  active=25911 feature_norm=144.67\n",
      "Iter 91  time=0.44  loss=6227.80  active=25886 feature_norm=144.68\n",
      "Iter 92  time=0.41  loss=6226.55  active=25879 feature_norm=144.68\n",
      "Iter 93  time=0.45  loss=6225.35  active=25862 feature_norm=144.70\n",
      "Iter 94  time=0.42  loss=6224.33  active=25846 feature_norm=144.69\n",
      "Iter 95  time=0.41  loss=6223.16  active=25824 feature_norm=144.71\n",
      "Iter 96  time=0.44  loss=6222.17  active=25820 feature_norm=144.71\n",
      "Iter 97  time=0.43  loss=6221.06  active=25799 feature_norm=144.72\n",
      "Iter 98  time=0.50  loss=6220.18  active=25783 feature_norm=144.72\n",
      "Iter 99  time=0.49  loss=6219.09  active=25750 feature_norm=144.74\n",
      "Iter 100 time=0.44  loss=6218.16  active=25761 feature_norm=144.74\n",
      "L-BFGS terminated with the maximum number of iterations\n",
      "Total seconds required for training: 47.060\n",
      "\n",
      "Storing the model\n",
      "Number of active features: 25761 (86687)\n",
      "Number of active attributes: 16414 (68166)\n",
      "Number of active labels: 9 (9)\n",
      "Writing labels\n",
      "Writing attributes\n",
      "Writing feature references for transitions\n",
      "Writing feature references for attributes\n",
      "Seconds required: 0.020\n",
      "\n",
      "CPU times: user 51.2 s, sys: 644 ms, total: 51.8 s\n",
      "Wall time: 51.4 s\n"
     ]
    },
    {
     "name": "stderr",
     "output_type": "stream",
     "text": [
      "/root/miniconda3/envs/py36_cpu/lib/python3.6/site-packages/sklearn/base.py:197: FutureWarning: From version 0.24, get_params will raise an AttributeError if a parameter cannot be retrieved as an instance attribute. Previously it would return None.\n",
      "  FutureWarning)\n"
     ]
    },
    {
     "data": {
      "text/plain": [
       "CRF(algorithm='lbfgs', all_possible_states=None, all_possible_transitions=True,\n",
       "    averaging=None, c=None, c1=0.1, c2=0.1, calibration_candidates=None,\n",
       "    calibration_eta=None, calibration_max_trials=None, calibration_rate=None,\n",
       "    calibration_samples=None, delta=None, epsilon=None, error_sensitive=None,\n",
       "    gamma=None, keep_tempfiles=None, linesearch=None, max_iterations=100,\n",
       "    max_linesearch=None, min_freq=None, model_filename=None, num_memories=None,\n",
       "    pa_type=None, period=None, trainer_cls=None, variance=None, verbose=True)"
      ]
     },
     "execution_count": 11,
     "metadata": {},
     "output_type": "execute_result"
    }
   ],
   "source": [
    "%%time\n",
    "crf = sklearn_crfsuite.CRF(\n",
    "    algorithm='lbfgs',\n",
    "    c1=0.1,\n",
    "    c2=0.1,\n",
    "    max_iterations=100,\n",
    "    all_possible_transitions=True,\n",
    "    verbose=True\n",
    ")\n",
    "crf.fit(X_train, y_train)\n",
    "\n",
    "\n"
   ]
  },
  {
   "cell_type": "markdown",
   "metadata": {
    "id": "fDluS5mU1Tki"
   },
   "source": [
    "# Đánh giá mô hình"
   ]
  },
  {
   "cell_type": "code",
   "execution_count": 12,
   "metadata": {
    "colab": {
     "base_uri": "https://localhost:8080/"
    },
    "id": "8i3RpkDv1Tki",
    "outputId": "15d29412-362c-4b6d-cfdb-b3a7587cd445"
   },
   "outputs": [
    {
     "data": {
      "text/plain": [
       "[('CRICKET', 'NNP', 'O'),\n",
       " ('-', ':', 'O'),\n",
       " ('LEICESTERSHIRE', 'NNP', 'B-ORG'),\n",
       " ('TAKE', 'NNP', 'O'),\n",
       " ('OVER', 'IN', 'O'),\n",
       " ('AT', 'NNP', 'O'),\n",
       " ('TOP', 'NNP', 'O'),\n",
       " ('AFTER', 'NNP', 'O'),\n",
       " ('INNINGS', 'NNP', 'O'),\n",
       " ('VICTORY', 'NN', 'O'),\n",
       " ('.', '.', 'O')]"
      ]
     },
     "execution_count": 12,
     "metadata": {},
     "output_type": "execute_result"
    }
   ],
   "source": [
    "# Xem thử nội dung câu đầu tiên\n",
    "X_test[0]\n",
    "test_sents[0]"
   ]
  },
  {
   "cell_type": "code",
   "execution_count": 14,
   "metadata": {
    "colab": {
     "base_uri": "https://localhost:8080/"
    },
    "id": "kUIO4pBM1Tki",
    "outputId": "862fc5ab-f9c0-453c-a232-5869009eee45"
   },
   "outputs": [
    {
     "name": "stdout",
     "output_type": "stream",
     "text": [
      "['B-ORG', 'O', 'B-MISC', 'B-PER', 'I-PER', 'B-LOC', 'I-ORG', 'I-MISC', 'I-LOC']\n",
      "0.974843292537433\n",
      "['B-ORG', 'B-MISC', 'B-PER', 'I-PER', 'B-LOC', 'I-ORG', 'I-MISC', 'I-LOC']\n",
      "0.8811508100893499\n"
     ]
    }
   ],
   "source": [
    "labels = list(crf.classes_)\n",
    "print(labels)\n",
    "\n",
    "y_pred = crf.predict(X_test)\n",
    "score1 = metrics.flat_f1_score(y_test, y_pred,\n",
    "                      average='weighted', labels=labels)\n",
    "\n",
    "print(score1)\n",
    "labels.remove('O')\n",
    "score2 = metrics.flat_f1_score(y_test, y_pred,\n",
    "                      average='weighted', labels=labels)\n",
    "print(labels)\n",
    "print(score2)\n"
   ]
  },
  {
   "cell_type": "code",
   "execution_count": 13,
   "metadata": {
    "id": "BrE8Q02O6z07"
   },
   "outputs": [],
   "source": []
  },
  {
   "cell_type": "code",
   "execution_count": 15,
   "metadata": {
    "colab": {
     "base_uri": "https://localhost:8080/",
     "height": 364
    },
    "id": "h74acW8d1Tkj",
    "outputId": "a6a68e46-59cd-4ab5-c47d-5bf06458be65"
   },
   "outputs": [
    {
     "name": "stdout",
     "output_type": "stream",
     "text": [
      "              precision    recall  f1-score   support\n",
      "\n",
      "       B-LOC       0.91      0.88      0.89      1837\n",
      "       I-LOC       0.88      0.79      0.83       257\n",
      "      B-MISC       0.93      0.84      0.88       922\n",
      "      I-MISC       0.89      0.74      0.80       346\n",
      "       B-ORG       0.85      0.81      0.83      1341\n",
      "       I-ORG       0.82      0.82      0.82       751\n",
      "       B-PER       0.90      0.91      0.90      1842\n",
      "       I-PER       0.94      0.95      0.95      1307\n",
      "\n",
      "   micro avg       0.90      0.87      0.88      8603\n",
      "   macro avg       0.89      0.84      0.86      8603\n",
      "weighted avg       0.90      0.87      0.88      8603\n",
      "\n"
     ]
    }
   ],
   "source": [
    "# from sklearn_crfsuite import metrics\n",
    "\n",
    "# from sklearn.metrics import classification_report\n",
    "# metrics.classification_report\n",
    "# group B and I results\n",
    "sorted_labels = sorted(\n",
    "    labels,\n",
    "    key=lambda name: (name[1:], name[0])\n",
    ")\n",
    "print(metrics.flat_classification_report(y_test, y_pred, labels=sorted_labels))\n"
   ]
  },
  {
   "cell_type": "code",
   "execution_count": 46,
   "metadata": {
    "colab": {
     "base_uri": "https://localhost:8080/",
     "height": 280
    },
    "id": "zdXAFRQS5aEJ",
    "outputId": "20281c60-0e2e-46d1-c32a-42f77d1e9192"
   },
   "outputs": [
    {
     "name": "stdout",
     "output_type": "stream",
     "text": [
      "Collecting scikit-learn\n",
      "  Downloading scikit_learn-1.0.1-cp37-cp37m-manylinux_2_12_x86_64.manylinux2010_x86_64.whl (23.2 MB)\n",
      "\u001b[K     |████████████████████████████████| 23.2 MB 82.9 MB/s \n",
      "\u001b[?25hRequirement already satisfied: scipy>=1.1.0 in /usr/local/lib/python3.7/dist-packages (from scikit-learn) (1.4.1)\n",
      "Requirement already satisfied: numpy>=1.14.6 in /usr/local/lib/python3.7/dist-packages (from scikit-learn) (1.19.5)\n",
      "Requirement already satisfied: joblib>=0.11 in /usr/local/lib/python3.7/dist-packages (from scikit-learn) (1.1.0)\n",
      "Requirement already satisfied: threadpoolctl>=2.0.0 in /usr/local/lib/python3.7/dist-packages (from scikit-learn) (3.0.0)\n",
      "Installing collected packages: scikit-learn\n",
      "Successfully installed scikit-learn-1.0.1\n"
     ]
    },
    {
     "data": {
      "application/vnd.colab-display-data+json": {
       "pip_warning": {
        "packages": [
         "sklearn"
        ]
       }
      }
     },
     "metadata": {},
     "output_type": "display_data"
    }
   ],
   "source": [
    "# ! pip uninstall scikit-learn\n",
    "! pip install -U scikit-learn\n"
   ]
  },
  {
   "cell_type": "code",
   "execution_count": 16,
   "metadata": {
    "colab": {
     "base_uri": "https://localhost:8080/"
    },
    "id": "7G1edvQY3BkB",
    "outputId": "16e64f8d-093c-4d32-b8af-bf2d0dca3fca"
   },
   "outputs": [
    {
     "name": "stdout",
     "output_type": "stream",
     "text": [
      "Help on function flat_classification_report in module sklearn_crfsuite.metrics:\n",
      "\n",
      "flat_classification_report(y_true, y_pred, labels=None, **kwargs)\n",
      "    Return classification report for sequence items.\n",
      "\n"
     ]
    }
   ],
   "source": [
    "help(metrics.flat_classification_report)"
   ]
  },
  {
   "cell_type": "code",
   "execution_count": 17,
   "metadata": {
    "id": "qYNMwMnF1Tkj",
    "outputId": "7744691f-ce12-42d4-a898-4d4183af0fe9"
   },
   "outputs": [
    {
     "name": "stdout",
     "output_type": "stream",
     "text": [
      "('CRICKET', 'NNP', 'O') O\n",
      "('-', ':', 'O') O\n",
      "('LEICESTERSHIRE', 'NNP', 'B-ORG') B-ORG\n",
      "('TAKE', 'NNP', 'O') O\n",
      "('OVER', 'IN', 'O') O\n",
      "('AT', 'NNP', 'O') O\n",
      "('TOP', 'NNP', 'O') O\n",
      "('AFTER', 'NNP', 'O') O\n",
      "('INNINGS', 'NNP', 'O') O\n",
      "('VICTORY', 'NN', 'O') O\n",
      "('.', '.', 'O') O\n"
     ]
    }
   ],
   "source": [
    "for a, b in zip(test_sents[0], crf.predict([X_test[0]])[0]):\n",
    "    print(a, b)\n"
   ]
  },
  {
   "cell_type": "markdown",
   "metadata": {
    "id": "nydCI6H11Tkj"
   },
   "source": [
    "# Dự đoán nhãn NER cho một câu mới"
   ]
  },
  {
   "cell_type": "code",
   "execution_count": 18,
   "metadata": {
    "id": "uxpBmtFc1Tkk",
    "outputId": "fa19f192-0b71-436e-a45b-12826389be3b"
   },
   "outputs": [
    {
     "name": "stdout",
     "output_type": "stream",
     "text": [
      "sentence ['He', 'is', 'a', 'German', 'who', 'works', 'at', 'Facebook', 'Inc', '.']\n",
      "POS tag [('He', 'PRP'), ('is', 'VBZ'), ('a', 'DT'), ('German', 'JJ'), ('who', 'WP'), ('works', 'VBZ'), ('at', 'IN'), ('Facebook', 'NNP'), ('Inc', 'NNP'), ('.', '.')]\n",
      "test_sent\n"
     ]
    },
    {
     "data": {
      "text/plain": [
       "[('He', 'PRP', '-'),\n",
       " ('is', 'VBZ', '-'),\n",
       " ('a', 'DT', '-'),\n",
       " ('German', 'JJ', '-'),\n",
       " ('who', 'WP', '-'),\n",
       " ('works', 'VBZ', '-'),\n",
       " ('at', 'IN', '-'),\n",
       " ('Facebook', 'NNP', '-'),\n",
       " ('Inc', 'NNP', '-'),\n",
       " ('.', '.', '-')]"
      ]
     },
     "execution_count": 18,
     "metadata": {},
     "output_type": "execute_result"
    }
   ],
   "source": [
    "import nltk\n",
    "sentence = nltk.word_tokenize(\"He is a German who works at Facebook Inc.\")\n",
    "print(\"sentence\", sentence)\n",
    "x = nltk.pos_tag(sentence)\n",
    "print(\"POS tag\", x)\n",
    "test_sent = [i + ('-', ) for i in x]\n",
    "print(\"test_sent\")\n",
    "test_sent\n",
    "\n",
    "\n"
   ]
  },
  {
   "cell_type": "code",
   "execution_count": 19,
   "metadata": {
    "id": "m2Vitstu1Tkk"
   },
   "outputs": [],
   "source": [
    "test_sent_feature = sent2features(test_sent)\n",
    "\n"
   ]
  },
  {
   "cell_type": "code",
   "execution_count": 20,
   "metadata": {
    "id": "Ms56AV0y1Tkk",
    "outputId": "0a93366c-605e-4586-ea9f-f552c824746b"
   },
   "outputs": [
    {
     "name": "stdout",
     "output_type": "stream",
     "text": [
      "['He', 'is', 'a', 'German', 'who', 'works', 'at', 'Facebook', 'Inc', '.']\n",
      "10\n",
      "['O', 'O', 'O', 'B-MISC', 'O', 'O', 'O', 'B-ORG', 'I-ORG', 'O']\n",
      "10\n",
      "He ==> O\n",
      "is ==> O\n",
      "a ==> O\n",
      "German ==> B-MISC\n",
      "who ==> O\n",
      "works ==> O\n",
      "at ==> O\n",
      "Facebook ==> B-ORG\n",
      "Inc ==> I-ORG\n",
      ". ==> O\n"
     ]
    }
   ],
   "source": [
    "# sentence ['He', 'is', 'a', 'German', 'who', 'works', 'at', 'Google', 'Inc', '.']\n",
    "print(sentence)\n",
    "print(len(sentence))\n",
    "result = crf.predict([test_sent_feature])[0]\n",
    "print(result)\n",
    "print(len(result))\n",
    "for a, b in zip(sentence, result):\n",
    "    print(a, \"==>\", b)\n"
   ]
  },
  {
   "cell_type": "markdown",
   "metadata": {
    "id": "SdZIrxUM1Tkk"
   },
   "source": [
    "# Bài tập:\n",
    "- Chuyển sang dạng CONLL từ dữ liệu gán nhãn `xml`\n",
    "- Từ dạng IOB rút trích ra các NER\n",
    "- Thực hiện Đánh giá theo từng loại entity\n",
    "- Thử nghiệm với dữ liệu tiếng việt"
   ]
  },
  {
   "cell_type": "markdown",
   "metadata": {
    "id": "nuIqUnRE1Tkl"
   },
   "source": [
    "\n",
    "```\n",
    "<ENAMEX TYPE=\"LOCATION\">Mỹ</ENAMEX> kêu gọi <ENAMEX TYPE=\"LOCATION\">Nga</ENAMEX>, <ENAMEX TYPE=\"LOCATION\">Trung</ENAMEX> dừng phổ biến vũ khí hạt nhân\n",
    "\n",
    "Ngoại trưởng <ENAMEX TYPE=\"LOCATION\">Mỹ</ENAMEX> <ENAMEX TYPE=\"PERSON\">Rex Tillerson</ENAMEX> kêu gọi cộng đồng quốc tế ngăn chặn các nước sở hữu vũ khí hạt nhân.\n",
    "\n",
    "Trong lời kêu gọi dừng các hoạt động tạo điều kiện để vũ khí hạt nhân phổ biến, Ngoại trưởng <ENAMEX TYPE=\"LOCATION\">Mỹ</ENAMEX> <ENAMEX TYPE=\"PERSON\">Rex Tillerson</ENAMEX> nêu đích danh <ENAMEX TYPE=\"LOCATION\">Nga</ENAMEX>, <ENAMEX TYPE=\"LOCATION\">Trung Quốc</ENAMEX> - ám chỉ các nước này nên gia tăng áp lực nhằm buộc <ENAMEX TYPE=\"LOCATION\">Triều Tiên</ENAMEX> phải từ bỏ tham vọng vũ khí hạt nhân.\n",
    "Ông <ENAMEX TYPE=\"PERSON\">Tillerson</ENAMEX> lấy <ENAMEX TYPE=\"LOCATION\">Triều Tiên</ENAMEX> làm bài học điển hình cho việc thất bại trong hoạt động ngăn chặn các nước sở hữu vũ khí tiêu diệt hàng loạt.\n",
    "Ngoại trưởng <ENAMEX TYPE=\"LOCATION\">Mỹ</ENAMEX> đưa ra phát ngôn trên trong cuộc họp cấp Bộ trưởng tại <ENAMEX TYPE=\"ORGANIZATION\">Hội đồng Bảo an Liên Hợp Quốc</ENAMEX> do <ENAMEX TYPE=\"LOCATION\">Mỹ</ENAMEX> kêu gọi tổ chức nhằm giải quyết mối đe doạ từ các hoạt động phát triển các vũ khí sinh học, hoá học, hạt nhân.\n",
    "Ông <ENAMEX TYPE=\"PERSON\">Tillerson</ENAMEX> nhắc lại, <ENAMEX TYPE=\"LOCATION\">Washington</ENAMEX> và <ENAMEX TYPE=\"LOCATION\">Moscow</ENAMEX> từng hợp tác rất tốt trong thời kỳ Xô-viết về các biện pháp giải trừ vũ khí, dù là đối thủ Chiến tranh Lạnh với nhau. Vậy nên, bây giờ “hai nước nên hợp tác như vậy một lần nữa”.\n",
    "Hiện nay, thế giới đang nóng vấn đề vũ khí hạt nhân tên lửa khi <ENAMEX TYPE=\"LOCATION\">Triều Tiên</ENAMEX> không ngừng thực hiện các vụ thử tên lửa, hạt nhân với sức mạnh không ngừng phát triển bất chấp các lệnh trừng phạt từ cộng đồng quốc tế\n",
    "\n",
    "\n",
    "```\n"
   ]
  },
  {
   "cell_type": "code",
   "execution_count": null,
   "metadata": {
    "id": "nFi44jMP1Tkl"
   },
   "outputs": [],
   "source": []
  }
 ],
 "metadata": {
  "colab": {
   "collapsed_sections": [],
   "name": "Lab6-NER-CONLL2003 (1).ipynb",
   "provenance": []
  },
  "kernelspec": {
   "display_name": "py36_cpu",
   "language": "python",
   "name": "py36_cpu"
  },
  "language_info": {
   "codemirror_mode": {
    "name": "ipython",
    "version": 3
   },
   "file_extension": ".py",
   "mimetype": "text/x-python",
   "name": "python",
   "nbconvert_exporter": "python",
   "pygments_lexer": "ipython3",
   "version": "3.6.10"
  }
 },
 "nbformat": 4,
 "nbformat_minor": 4
}
